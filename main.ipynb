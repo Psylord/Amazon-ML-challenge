{
 "cells": [
  {
   "cell_type": "code",
   "execution_count": 114,
   "metadata": {
    "collapsed": true
   },
   "outputs": [
    {
     "name": "stdout",
     "output_type": "stream",
     "text": [
      "   EmpID  EmpName LanguageOfCommunication  Age  Gender  \\\n",
      "0  11041     John                 English   35    Male   \n",
      "1  15079  William                 English   26    Male   \n",
      "2  18638    James                 English   36  Female   \n",
      "3   3941  Charles                 English   29  Female   \n",
      "4   5936   George                 English   25    Male   \n",
      "\n",
      "  JobProfileIDApplyingFor HighestDegree             DegreeBranch  \\\n",
      "0                 JR85289        B.Tech               Electrical   \n",
      "1                 JR87525        B.Tech  Artificial Intelligence   \n",
      "2                 JR87525           PhD         Computer Science   \n",
      "3                 JR87525           BCA   Information Technology   \n",
      "4                 JR70175   Dual M.Tech         Computer Science   \n",
      "\n",
      "  GraduatingInstitute  LatestDegreeCGPA  ...  CurrentCTC  ExpectedCTC  \\\n",
      "0              Tier 1                 7  ...          21           26   \n",
      "1              Tier 3                 7  ...          15           19   \n",
      "2              Tier 1                 6  ...          15           24   \n",
      "3              Tier 2                 5  ...          16           24   \n",
      "4              Tier 3                 8  ...          24           32   \n",
      "\n",
      "   MartialStatus  EmpScore CurrentDesignation  CurrentCompanyType  \\\n",
      "0        Married         5                SSE          Enterprise   \n",
      "1        Married         5                 BA            MidSized   \n",
      "2         Single         5                SDE            MidSized   \n",
      "3        Married         5                SDE             Startup   \n",
      "4        Married         5                SDE          Enterprise   \n",
      "\n",
      "  DepartmentInCompany TotalLeavesTaken BiasInfluentialFactor  FitmentPercent  \n",
      "0              Design               20      YearsOfExperince           95.40  \n",
      "1         Engineering                6                   NaN           67.09  \n",
      "2         Engineering               19                Gender           91.26  \n",
      "3             Product               16                Gender           72.29  \n",
      "4         Engineering               10          DegreeBranch           86.34  \n",
      "\n",
      "[5 rows x 22 columns]\n"
     ]
    }
   ],
   "source": [
    "import pandas as pd\n",
    "import jupyter\n",
    "import sklearn\n",
    "import sklearn.model_selection\n",
    "from sklearn.model_selection import train_test_split\n",
    "from sklearn.multioutput import RegressorChain\n",
    "from sklearn.tree import DecisionTreeRegressor\n",
    "from sklearn.preprocessing import LabelEncoder\n",
    "test_data = pd.read_csv('Test.csv')\n",
    "data = pd.read_csv('Train.csv')\n",
    "data.columns\n",
    "print(data.head())"
   ]
  },
  {
   "cell_type": "code",
   "execution_count": 115,
   "outputs": [
    {
     "name": "stdout",
     "output_type": "stream",
     "text": [
      "['LanguageOfCommunication', 'Gender', 'JobProfileIDApplyingFor', 'HighestDegree', 'DegreeBranch', 'GraduatingInstitute', 'MartialStatus', 'CurrentDesignation', 'CurrentCompanyType', 'DepartmentInCompany']\n",
      "['BiasInfluentialFactor']\n",
      "       LanguageOfCommunication  Age  Gender  JobProfileIDApplyingFor  \\\n",
      "0                            0   35       1                        3   \n",
      "1                            0   26       1                        4   \n",
      "2                            0   36       0                        4   \n",
      "3                            0   29       0                        4   \n",
      "4                            0   25       1                        0   \n",
      "...                        ...  ...     ...                      ...   \n",
      "13640                        0   25       0                        4   \n",
      "13641                        2   29       2                        4   \n",
      "13642                        1   37       1                        6   \n",
      "13643                        1   24       1                        4   \n",
      "13644                        0   35       1                        4   \n",
      "\n",
      "       HighestDegree  DegreeBranch  GraduatingInstitute  LatestDegreeCGPA  \\\n",
      "0                  0             2                    0                 7   \n",
      "1                  0             0                    2                 7   \n",
      "2                  7             1                    0                 6   \n",
      "3                  1             5                    1                 5   \n",
      "4                  2             1                    2                 8   \n",
      "...              ...           ...                  ...               ...   \n",
      "13640              3             2                    1                 7   \n",
      "13641              2             1                    0                 7   \n",
      "13642              4             0                    0                 8   \n",
      "13643              0             2                    1                 4   \n",
      "13644              0             2                    1                 7   \n",
      "\n",
      "       YearsOfExperince  GraduationYear  CurrentCTC  ExpectedCTC  \\\n",
      "0                    12               0          21           26   \n",
      "1                     3               9          15           19   \n",
      "2                     6               6          15           24   \n",
      "3                     6               6          16           24   \n",
      "4                     2              10          24           32   \n",
      "...                 ...             ...         ...          ...   \n",
      "13640                 2              10          30           34   \n",
      "13641                 6               6          22           28   \n",
      "13642                11               1           8           16   \n",
      "13643                 1              11          27           36   \n",
      "13644                12               0          17           24   \n",
      "\n",
      "       MartialStatus  EmpScore  CurrentDesignation  CurrentCompanyType  \\\n",
      "0                  0         5                   7                   0   \n",
      "1                  0         5                   0                   1   \n",
      "2                  1         5                   5                   1   \n",
      "3                  0         5                   5                   2   \n",
      "4                  0         5                   5                   0   \n",
      "...              ...       ...                 ...                 ...   \n",
      "13640              0         3                   5                   2   \n",
      "13641              0         4                   7                   2   \n",
      "13642              1         4                   5                   0   \n",
      "13643              1         4                   5                   1   \n",
      "13644              1         3                   7                   2   \n",
      "\n",
      "       DepartmentInCompany  TotalLeavesTaken  \n",
      "0                        1                20  \n",
      "1                        2                 6  \n",
      "2                        2                19  \n",
      "3                        4                16  \n",
      "4                        2                10  \n",
      "...                    ...               ...  \n",
      "13640                    2                 5  \n",
      "13641                    0                14  \n",
      "13642                    1                20  \n",
      "13643                    2                 7  \n",
      "13644                    2                16  \n",
      "\n",
      "[13645 rows x 18 columns]\n"
     ]
    },
    {
     "name": "stderr",
     "output_type": "stream",
     "text": [
      "<ipython-input-115-cf9586f22975>:14: SettingWithCopyWarning: \n",
      "A value is trying to be set on a copy of a slice from a DataFrame.\n",
      "Try using .loc[row_indexer,col_indexer] = value instead\n",
      "\n",
      "See the caveats in the documentation: https://pandas.pydata.org/pandas-docs/stable/user_guide/indexing.html#returning-a-view-versus-a-copy\n",
      "  x['GraduationYear'] = x['GraduationYear'] - 2009\n",
      "<ipython-input-115-cf9586f22975>:18: SettingWithCopyWarning: \n",
      "A value is trying to be set on a copy of a slice from a DataFrame.\n",
      "Try using .loc[row_indexer,col_indexer] = value instead\n",
      "\n",
      "See the caveats in the documentation: https://pandas.pydata.org/pandas-docs/stable/user_guide/indexing.html#returning-a-view-versus-a-copy\n",
      "  x[feature] = le.fit_transform(x[feature])\n",
      "<ipython-input-115-cf9586f22975>:19: SettingWithCopyWarning: \n",
      "A value is trying to be set on a copy of a slice from a DataFrame.\n",
      "Try using .loc[row_indexer,col_indexer] = value instead\n",
      "\n",
      "See the caveats in the documentation: https://pandas.pydata.org/pandas-docs/stable/user_guide/indexing.html#returning-a-view-versus-a-copy\n",
      "  t[feature] = le.fit_transform(t[feature])\n",
      "<ipython-input-115-cf9586f22975>:23: SettingWithCopyWarning: \n",
      "A value is trying to be set on a copy of a slice from a DataFrame.\n",
      "Try using .loc[row_indexer,col_indexer] = value instead\n",
      "\n",
      "See the caveats in the documentation: https://pandas.pydata.org/pandas-docs/stable/user_guide/indexing.html#returning-a-view-versus-a-copy\n",
      "  y[feature] = le.fit_transform(y[feature])\n"
     ]
    }
   ],
   "source": [
    "\n",
    "le = LabelEncoder()\n",
    "t = test_data[['LanguageOfCommunication' , 'Age' , 'Gender' , 'JobProfileIDApplyingFor', 'HighestDegree', 'DegreeBranch',\n",
    "       'GraduatingInstitute', 'LatestDegreeCGPA', 'YearsOfExperince',\n",
    "       'GraduationYear', 'CurrentCTC', 'ExpectedCTC', 'MartialStatus',\n",
    "       'EmpScore', 'CurrentDesignation', 'CurrentCompanyType',\n",
    "       'DepartmentInCompany', 'TotalLeavesTaken']]\n",
    "y = data[['BiasInfluentialFactor' , 'FitmentPercent']]\n",
    "x = data[['LanguageOfCommunication' , 'Age' , 'Gender' , 'JobProfileIDApplyingFor', 'HighestDegree', 'DegreeBranch',\n",
    "       'GraduatingInstitute', 'LatestDegreeCGPA', 'YearsOfExperince',\n",
    "       'GraduationYear', 'CurrentCTC', 'ExpectedCTC', 'MartialStatus',\n",
    "       'EmpScore', 'CurrentDesignation', 'CurrentCompanyType',\n",
    "       'DepartmentInCompany', 'TotalLeavesTaken']]\n",
    "test_data['GraduationYear'] = test_data['GraduationYear'] - 2009\n",
    "x['GraduationYear'] = x['GraduationYear'] - 2009\n",
    "columnsToEncode = list(x.select_dtypes(include=['category','object']))\n",
    "print(columnsToEncode)\n",
    "for feature in columnsToEncode:\n",
    "       x[feature] = le.fit_transform(x[feature])\n",
    "       t[feature] = le.fit_transform(t[feature])\n",
    "columnsToEncode = list(y.select_dtypes(include=['category','object']))\n",
    "print(columnsToEncode)\n",
    "for feature in columnsToEncode:\n",
    "       y[feature] = le.fit_transform(y[feature])\n",
    "\n",
    "x_train , x_test , y_train , y_test = train_test_split(x , y , test_size = 0.1)\n",
    "y_train_cls = y_train.BiasInfluentialFactor\n",
    "y_train = y_train.FitmentPercent\n",
    "y_test_cls = y_test.BiasInfluentialFactor\n",
    "y_test = y_test.FitmentPercent\n",
    "print(x)"
   ],
   "metadata": {
    "collapsed": false,
    "pycharm": {
     "name": "#%%\n"
    }
   }
  },
  {
   "cell_type": "code",
   "execution_count": 116,
   "outputs": [
    {
     "name": "stdout",
     "output_type": "stream",
     "text": [
      "0.7956043956043956\n"
     ]
    },
    {
     "name": "stderr",
     "output_type": "stream",
     "text": [
      "<ipython-input-116-78140ff5d59c>:13: SettingWithCopyWarning: \n",
      "A value is trying to be set on a copy of a slice from a DataFrame.\n",
      "Try using .loc[row_indexer,col_indexer] = value instead\n",
      "\n",
      "See the caveats in the documentation: https://pandas.pydata.org/pandas-docs/stable/user_guide/indexing.html#returning-a-view-versus-a-copy\n",
      "  t['BiasInfluentialFactor'] = model_cl.predict(t)\n"
     ]
    }
   ],
   "source": [
    "from sklearn.metrics import mean_absolute_error, accuracy_score\n",
    "from sklearn.utils import all_estimators\n",
    "from sklearn.ensemble import GradientBoostingClassifier\n",
    "\n",
    "\n",
    "\n",
    "\n",
    "model_cl = GradientBoostingClassifier(learning_rate= 0.05 , n_estimators= 101 )\n",
    "model_cl.fit(x_train , y_train_cls)\n",
    "print(accuracy_score(model_cl.predict(x_test) , y_test_cls ))\n",
    "\n",
    "\n",
    "t['BiasInfluentialFactor'] = model_cl.predict(t)"
   ],
   "metadata": {
    "collapsed": false,
    "pycharm": {
     "name": "#%%\n"
    }
   }
  },
  {
   "cell_type": "code",
   "execution_count": 117,
   "outputs": [
    {
     "name": "stderr",
     "output_type": "stream",
     "text": [
      "<ipython-input-117-8e00b3cfb5e8>:3: SettingWithCopyWarning: \n",
      "A value is trying to be set on a copy of a slice from a DataFrame.\n",
      "Try using .loc[row_indexer,col_indexer] = value instead\n",
      "\n",
      "See the caveats in the documentation: https://pandas.pydata.org/pandas-docs/stable/user_guide/indexing.html#returning-a-view-versus-a-copy\n",
      "  x_train['BiasInfluentialFactor'] = y_train_cls\n",
      "<ipython-input-117-8e00b3cfb5e8>:4: SettingWithCopyWarning: \n",
      "A value is trying to be set on a copy of a slice from a DataFrame.\n",
      "Try using .loc[row_indexer,col_indexer] = value instead\n",
      "\n",
      "See the caveats in the documentation: https://pandas.pydata.org/pandas-docs/stable/user_guide/indexing.html#returning-a-view-versus-a-copy\n",
      "  x_test['BiasInfluentialFactor'] = model_cl.predict(x_test)\n"
     ]
    }
   ],
   "source": [
    "import random\n",
    "\n",
    "x_train['BiasInfluentialFactor'] = y_train_cls\n",
    "x_test['BiasInfluentialFactor'] = model_cl.predict(x_test)"
   ],
   "metadata": {
    "collapsed": false,
    "pycharm": {
     "name": "#%%\n"
    }
   }
  },
  {
   "cell_type": "code",
   "execution_count": 118,
   "outputs": [
    {
     "name": "stdout",
     "output_type": "stream",
     "text": [
      "3 4\n"
     ]
    },
    {
     "name": "stderr",
     "output_type": "stream",
     "text": [
      "<ipython-input-118-8071eba14222>:4: SettingWithCopyWarning: \n",
      "A value is trying to be set on a copy of a slice from a DataFrame.\n",
      "Try using .loc[row_indexer,col_indexer] = value instead\n",
      "\n",
      "See the caveats in the documentation: https://pandas.pydata.org/pandas-docs/stable/user_guide/indexing.html#returning-a-view-versus-a-copy\n",
      "  x_train['FitmentPercent'] = y_train\n"
     ]
    },
    {
     "name": "stdout",
     "output_type": "stream",
     "text": [
      "(17556, 20)\n"
     ]
    }
   ],
   "source": [
    "gno = le.transform(['Gender'])[0]\n",
    "eno = le.transform(['Ethinicity'])[0]\n",
    "print (eno , gno)\n",
    "x_train['FitmentPercent'] = y_train\n",
    "for index, row in x_train.iterrows():\n",
    "    nrow = dict(row)\n",
    "    if(nrow['BiasInfluentialFactor'] == gno):\n",
    "        nrow['Gender'] = random.randint(0,2)\n",
    "        x_train = x_train.append(nrow , ignore_index= True)\n",
    "    if(nrow['BiasInfluentialFactor'] == eno):\n",
    "        nrow['LanguageOfCommunication'] = random.randint(0,2)\n",
    "        x_train = x_train.append(nrow , ignore_index= True)\n",
    "\n",
    "print(x_train.shape)\n",
    "y_train = x_train.FitmentPercent\n",
    "x_train = x_train.drop(columns= ['FitmentPercent'])"
   ],
   "metadata": {
    "collapsed": false,
    "pycharm": {
     "name": "#%%\n"
    }
   }
  },
  {
   "cell_type": "code",
   "execution_count": 105,
   "outputs": [],
   "source": [
    "x_test = x_test.drop(columns = [ 'Age' ])\n",
    "x_train = x_train.drop(columns = ['Age' ])\n",
    "t = t.drop(columns = [ 'Age' ])"
   ],
   "metadata": {
    "collapsed": false,
    "pycharm": {
     "name": "#%%\n"
    }
   }
  },
  {
   "cell_type": "code",
   "execution_count": 119,
   "outputs": [
    {
     "name": "stdout",
     "output_type": "stream",
     "text": [
      "(17556, 19)\n"
     ]
    },
    {
     "data": {
      "text/plain": "8.016340442869172"
     },
     "execution_count": 119,
     "metadata": {},
     "output_type": "execute_result"
    }
   ],
   "source": [
    "from sklearn.experimental import enable_hist_gradient_boosting\n",
    "from sklearn.linear_model import LinearRegression, ARDRegression\n",
    "from sklearn.svm import SVR\n",
    "from sklearn.ensemble import RandomForestRegressor, AdaBoostRegressor, BaggingRegressor, ExtraTreesRegressor, \\\n",
    "    HistGradientBoostingRegressor, GradientBoostingClassifier , StackingRegressor\n",
    "\n",
    "print(x_train.shape)\n",
    "\n",
    "estimators = [\n",
    "    ('lr', ExtraTreesRegressor()),\n",
    "    ('svr', RandomForestRegressor(random_state=42)),\n",
    "    ('d' , HistGradientBoostingRegressor())\n",
    "]\n",
    "\n",
    "model = StackingRegressor(estimators)\n",
    "model.fit(x_train , y_train)\n",
    "\n",
    "mean_absolute_error(model.predict(x_test) , y_test)\n",
    "\n",
    "\n"
   ],
   "metadata": {
    "collapsed": false,
    "pycharm": {
     "name": "#%%\n"
    }
   }
  },
  {
   "cell_type": "code",
   "execution_count": 120,
   "outputs": [
    {
     "name": "stderr",
     "output_type": "stream",
     "text": [
      "<ipython-input-120-e69e378f100f>:2: SettingWithCopyWarning: \n",
      "A value is trying to be set on a copy of a slice from a DataFrame.\n",
      "Try using .loc[row_indexer,col_indexer] = value instead\n",
      "\n",
      "See the caveats in the documentation: https://pandas.pydata.org/pandas-docs/stable/user_guide/indexing.html#returning-a-view-versus-a-copy\n",
      "  ans['BiasInfluentialFactor'] = le.inverse_transform(t['BiasInfluentialFactor'])\n",
      "<ipython-input-120-e69e378f100f>:3: SettingWithCopyWarning: \n",
      "A value is trying to be set on a copy of a slice from a DataFrame.\n",
      "Try using .loc[row_indexer,col_indexer] = value instead\n",
      "\n",
      "See the caveats in the documentation: https://pandas.pydata.org/pandas-docs/stable/user_guide/indexing.html#returning-a-view-versus-a-copy\n",
      "  ans['FitmentPercent'] = model.predict(t)\n"
     ]
    }
   ],
   "source": [
    "\n",
    "ans = test_data[['EmpID']]\n",
    "ans['BiasInfluentialFactor'] = le.inverse_transform(t['BiasInfluentialFactor'])\n",
    "ans['FitmentPercent'] = model.predict(t)\n",
    "ans.to_csv('output2.csv' , index= False)"
   ],
   "metadata": {
    "collapsed": false,
    "pycharm": {
     "name": "#%%\n"
    }
   }
  }
 ],
 "metadata": {
  "kernelspec": {
   "display_name": "Python 3",
   "language": "python",
   "name": "python3"
  },
  "language_info": {
   "codemirror_mode": {
    "name": "ipython",
    "version": 2
   },
   "file_extension": ".py",
   "mimetype": "text/x-python",
   "name": "python",
   "nbconvert_exporter": "python",
   "pygments_lexer": "ipython2",
   "version": "2.7.6"
  }
 },
 "nbformat": 4,
 "nbformat_minor": 0
}